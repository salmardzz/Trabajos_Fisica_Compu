{
 "cells": [
  {
   "cell_type": "markdown",
   "metadata": {},
   "source": [
    "## 1. Altitud de un satélite: se va a lanzar un satélite en una  órbita circular alrededor de la Tierra de modo que orbite el planeta una vez cada T segundos.\n",
    "\n",
    "### a) Demuestre que la altitud $h$ sobre la superficie de la Tierra que debe tener el satélite es:\n",
    " \n",
    "  $$h = \\left( \\frac{G M T^2}{4\\pi^2} \\right)^{1/3} - R $$\n",
    " \n",
    "donde $G = 6.67 \\times 10^{-11} $, $\\text{m}^3 \\text{kg}^{-1} \\text{s}^{-2}$ es la constante gravitatoria de Newton,  $ M = 5.97 \\times 10^{24}$ kg es la masa de la Tierra y $ R = 6371 $ km es su radio.\n",
    "\n"
   ]
  },
  {
   "cell_type": "markdown",
   "metadata": {},
   "source": [
    "## Demostración:\n",
    "\n",
    "Para que un satélite se mantenga en órbita circular, la fuerza gravitatoria ($F_g$) debe igualar a la fuerza centrípeta ($F_c$), es decir \n",
    "\n",
    "$$ \\color{salmon}{ F_g} = \\color{violet}{F_c} $$ \n",
    "\n",
    "Sabemos que:  $ \\color{salmon}{F_g = \\frac{GMm}{(h+R)^2}}$ y que $\\color{violet}{F_c = mw^2 (h+R)}$\n",
    "\n",
    "\n",
    "Siguiendo lo anterior tenemos:\n",
    "\n",
    "$$\\color{salmon}{ \\frac{GMm}{(h+R)^2}} = \\color{violet}{mw^2 (h+R)} $$\n",
    "\n",
    "Ahora despejemos $h$:\n",
    "\n",
    "$$ h = \\sqrt[3]{\\frac{GM}{\\omega^2}} - R $$"
   ]
  },
  {
   "cell_type": "markdown",
   "metadata": {},
   "source": [
    "### b) Escribe un programa que le pida al usuario que ingrese el valor deseado de $T$ y luego calcule e imprima la altitud correcta en metros.\n"
   ]
  },
  {
   "cell_type": "markdown",
   "metadata": {},
   "source": [
    "### c) Utiliza tu programa para calcular las altitudes de los satélites que orbitan la Tierra:\n",
    "- Una vez al día (la llamada **órbita geoestacionaria**).\n",
    "- Una vez cada **90 minutos**.\n",
    "- Una vez cada **45 minutos**.\n",
    "\n",
    "¿Qué concluyes de este último cálculo?"
   ]
  },
  {
   "cell_type": "markdown",
   "metadata": {},
   "source": [
    "## 2. Relatividad especial: Una nave espacial viaja desde la Tierra en línea recta a una velocidad relativista $v$ a otro planeta a x años luz de distancia. \n",
    "\n",
    "Escribe un programa que le pida al usuario el valor de $x$ y la velocidad $v$ como una fraccion de la velocidad de la luz $c$, y que imprima el tiempo en años que tarda la nave espacial en llegar a su destino\n",
    "\n",
    "a) en el marco de reposo de un observador en la Tierra y\n",
    "\n",
    "b) como lo percibiría un pasajero a bordo de la nave.\n",
    "\n",
    "Usa tu programa para calcular las respuestas para un planeta a 10 años luz de distancia con $v = 0.99c$\n"
   ]
  }
 ],
 "metadata": {
  "kernelspec": {
   "display_name": "Python 3",
   "language": "python",
   "name": "python3"
  },
  "language_info": {
   "codemirror_mode": {
    "name": "ipython",
    "version": 3
   },
   "file_extension": ".py",
   "mimetype": "text/x-python",
   "name": "python",
   "nbconvert_exporter": "python",
   "pygments_lexer": "ipython3",
   "version": "3.12.6"
  }
 },
 "nbformat": 4,
 "nbformat_minor": 2
}
